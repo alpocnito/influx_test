{
 "cells": [
  {
   "cell_type": "markdown",
   "metadata": {},
   "source": [
    "# Импортируем аудиозапись"
   ]
  },
  {
   "cell_type": "code",
   "execution_count": 1,
   "metadata": {},
   "outputs": [
    {
     "name": "stdout",
     "output_type": "stream",
     "text": [
      "song.dBFS = -17.14877076605211\n",
      "song.channels = 2\n",
      "song.sample_width = 2\n",
      "song.frame_rate = 44100\n",
      "song.frame_width = 4\n",
      "song.rms = 4550\n",
      "song.max = 26212\n",
      "song.max_dBFS = -1.9389955135123373\n",
      "song.duration_seconds = 217.42666666666668\n",
      "song.frame_count() = 9588516.0\n",
      "Frames count on 1 channel:  300000\n",
      "Frames count on 2 channel:  300000\n"
     ]
    }
   ],
   "source": [
    "from pydub import AudioSegment\n",
    "import numpy as np\n",
    "\n",
    "song = AudioSegment.from_mp3(\"raw/horse.mp3\")\n",
    "\n",
    "print(f'{song.dBFS = }')\n",
    "print(f'{song.channels = }')\n",
    "print(f'{song.sample_width = }')\n",
    "print(f'{song.frame_rate = }')\n",
    "print(f'{song.frame_width = }')\n",
    "print(f'{song.rms = }')\n",
    "print(f'{song.max = }')\n",
    "print(f'{song.max_dBFS = }')\n",
    "print(f'{song.duration_seconds = }')\n",
    "print(f'{song.frame_count() = }')\n",
    "\n",
    "left, right = (song).split_to_mono()\n",
    "\n",
    "left_data = np.array(left.get_array_of_samples()).T.astype(np.float32)\n",
    "right_data = np.array(right.get_array_of_samples()).T.astype(np.float32)\n",
    "\n",
    "left_data = left_data[:300_000]\n",
    "right_data = right_data[:300_000]\n",
    "\n",
    "print(\"Frames count on 1 channel: \", len(left_data))\n",
    "print(\"Frames count on 2 channel: \", len(right_data))"
   ]
  },
  {
   "cell_type": "markdown",
   "metadata": {},
   "source": [
    "# Преобразуем в influx line protocol format"
   ]
  },
  {
   "cell_type": "code",
   "execution_count": 2,
   "metadata": {},
   "outputs": [],
   "source": [
    "import time\n",
    "write_data = []\n",
    "for i, [l, r] in enumerate(zip(left_data, right_data)):\n",
    "    json_body = {\n",
    "        \"measurement\": \"a\",\n",
    "        \"time\": int(time.time() * 1_000_000_000),\n",
    "        \"tags\": {\n",
    "            \"a\": \"i\",\n",
    "        },\n",
    "        \"fields\": {\n",
    "            \"l\": float(l),\n",
    "            \"r\": float(r),\n",
    "        }\n",
    "    }\n",
    "    write_data.append(json_body)"
   ]
  },
  {
   "cell_type": "markdown",
   "metadata": {},
   "source": [
    "# Запись в influxDB"
   ]
  },
  {
   "cell_type": "code",
   "execution_count": 4,
   "metadata": {},
   "outputs": [],
   "source": [
    "import influxdb_client\n",
    "\n",
    "bucket_in = \"bucket_in\"\n",
    "bucket_out = \"bucket_out\"\n",
    "\n",
    "org = \"mipt\"\n",
    "token='AxZQBiPLqGo7nkwQxuga16V_Ui8qY8livmN-TGKiqtTO3LOfAd3KNRslGYs4Eorcml1IgYlnwb8YtzM1jX22-Q=='\n",
    "\n",
    "# Store the URL of your InfluxDB instance\n",
    "url=\"http://localhost:8086\"\n",
    "\n",
    "client = influxdb_client.InfluxDBClient(\n",
    "    url=url,\n",
    "    token=token,\n",
    "    org=org\n",
    ")\n",
    "\n",
    "with client.write_api() as write_api:\n",
    "    write_api.write(bucket=bucket_in, org=org, record=write_data)"
   ]
  },
  {
   "cell_type": "markdown",
   "metadata": {},
   "source": [
    "# Ждем пока task в influxDB обработает аудио"
   ]
  },
  {
   "cell_type": "code",
   "execution_count": null,
   "metadata": {},
   "outputs": [],
   "source": [
    "time.sleep(120)"
   ]
  },
  {
   "cell_type": "markdown",
   "metadata": {},
   "source": [
    "# Чтение данных"
   ]
  },
  {
   "cell_type": "code",
   "execution_count": 10,
   "metadata": {},
   "outputs": [
    {
     "name": "stdout",
     "output_type": "stream",
     "text": [
      "query time: 0.011051416397094727\n",
      "analyze time: 0.00027179718017578125\n",
      "len(left_vals) = 0\n",
      "len(right_vals) = 0\n"
     ]
    }
   ],
   "source": [
    "import json\n",
    "bucket = bucket_out\n",
    "\n",
    "start = time.time()\n",
    "left_data  = client.query_api().query(f'from(bucket:\"{bucket}\") |> range(start: -10m) |> filter(fn: (r) => r[\"_field\"] == \"l\")')\n",
    "right_data = client.query_api().query(f'from(bucket:\"{bucket}\") |> range(start: -10m) |> filter(fn: (r) => r[\"_field\"] == \"r\")')\n",
    "print('query time:', time.time() - start)\n",
    "start = time.time()\n",
    "\n",
    "left_vals =  [min(max(-32768, int(point['_value'])), 32767) for point in json.loads(left_data.to_json())]\n",
    "right_vals = [min(max(-32768, int(point['_value'])), 32767) for point in json.loads(right_data.to_json())]\n",
    "print('analyze time:', time.time() - start)\n",
    "\n",
    "print(f'{len(left_vals) = }')\n",
    "print(f'{len(right_vals) = }')"
   ]
  },
  {
   "cell_type": "markdown",
   "metadata": {},
   "source": [
    "# Преобразование данных в аудио"
   ]
  },
  {
   "cell_type": "code",
   "execution_count": 7,
   "metadata": {},
   "outputs": [],
   "source": [
    "import array\n",
    "import io\n",
    "import scipy.io.wavfile\n",
    "\n",
    "left_vals  = np.array(left_vals)\n",
    "right_vals = np.array(right_vals)\n",
    "\n",
    "left_arr = array.array(song.array_type, left_vals)\n",
    "right_arr = array.array(song.array_type, right_vals)\n",
    "\n",
    "wav_io = io.BytesIO()\n",
    "scipy.io.wavfile.write(wav_io, 44100, np.array(left_arr).T)\n",
    "wav_io.seek(0)\n",
    "new_song = AudioSegment.from_wav(wav_io)\n",
    "file_handle = new_song.export(\"raw/horse_out.mp3\", format=\"mp3\")"
   ]
  },
  {
   "cell_type": "code",
   "execution_count": null,
   "metadata": {},
   "outputs": [],
   "source": []
  }
 ],
 "metadata": {
  "kernelspec": {
   "display_name": "synthesizer-q6pjSNd9-py3.11",
   "language": "python",
   "name": "python3"
  },
  "language_info": {
   "codemirror_mode": {
    "name": "ipython",
    "version": 3
   },
   "file_extension": ".py",
   "mimetype": "text/x-python",
   "name": "python",
   "nbconvert_exporter": "python",
   "pygments_lexer": "ipython3",
   "version": "3.11.6"
  }
 },
 "nbformat": 4,
 "nbformat_minor": 2
}
